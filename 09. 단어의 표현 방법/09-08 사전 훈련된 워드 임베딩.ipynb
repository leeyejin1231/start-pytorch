{
 "cells": [
  {
   "cell_type": "code",
   "execution_count": 2,
   "metadata": {},
   "outputs": [
    {
     "name": "stdout",
     "output_type": "stream",
     "text": [
      "Collecting torchtext\n",
      "  Downloading torchtext-0.15.2-cp38-cp38-macosx_11_0_arm64.whl (2.1 MB)\n",
      "\u001b[2K     \u001b[90m━━━━━━━━━━━━━━━━━━━━━━━━━━━━━━━━━━━━━━━━\u001b[0m \u001b[32m2.1/2.1 MB\u001b[0m \u001b[31m2.2 MB/s\u001b[0m eta \u001b[36m0:00:00\u001b[0m00:01\u001b[0m00:01\u001b[0m\n",
      "\u001b[?25hRequirement already satisfied: tqdm in /Users/yejin/miniconda3/lib/python3.8/site-packages (from torchtext) (4.64.0)\n",
      "Requirement already satisfied: requests in /Users/yejin/miniconda3/lib/python3.8/site-packages (from torchtext) (2.28.1)\n",
      "Collecting torch==2.0.1 (from torchtext)\n",
      "  Downloading torch-2.0.1-cp38-none-macosx_11_0_arm64.whl (55.8 MB)\n",
      "\u001b[2K     \u001b[90m━━━━━━━━━━━━━━━━━━━━━━━━━━━━━━━━━━━━━━━━\u001b[0m \u001b[32m55.8/55.8 MB\u001b[0m \u001b[31m1.3 MB/s\u001b[0m eta \u001b[36m0:00:00\u001b[0m00:01\u001b[0m00:01\u001b[0mm\n",
      "\u001b[?25hRequirement already satisfied: numpy in /Users/yejin/miniconda3/lib/python3.8/site-packages (from torchtext) (1.21.5)\n",
      "Collecting torchdata==0.6.1 (from torchtext)\n",
      "  Downloading torchdata-0.6.1-cp38-cp38-macosx_11_0_arm64.whl (1.7 MB)\n",
      "\u001b[2K     \u001b[90m━━━━━━━━━━━━━━━━━━━━━━━━━━━━━━━━━━━━━━━━\u001b[0m \u001b[32m1.7/1.7 MB\u001b[0m \u001b[31m1.1 MB/s\u001b[0m eta \u001b[36m0:00:00\u001b[0m00:01\u001b[0m00:01\u001b[0m0m\n",
      "\u001b[?25hRequirement already satisfied: filelock in /Users/yejin/miniconda3/lib/python3.8/site-packages (from torch==2.0.1->torchtext) (3.9.0)\n",
      "Requirement already satisfied: typing-extensions in /Users/yejin/miniconda3/lib/python3.8/site-packages (from torch==2.0.1->torchtext) (4.3.0)\n",
      "Requirement already satisfied: sympy in /Users/yejin/miniconda3/lib/python3.8/site-packages (from torch==2.0.1->torchtext) (1.11.1)\n",
      "Requirement already satisfied: networkx in /Users/yejin/miniconda3/lib/python3.8/site-packages (from torch==2.0.1->torchtext) (2.8.2)\n",
      "Requirement already satisfied: jinja2 in /Users/yejin/miniconda3/lib/python3.8/site-packages (from torch==2.0.1->torchtext) (3.1.2)\n",
      "Requirement already satisfied: urllib3>=1.25 in /Users/yejin/miniconda3/lib/python3.8/site-packages (from torchdata==0.6.1->torchtext) (1.26.11)\n",
      "Requirement already satisfied: charset-normalizer<3,>=2 in /Users/yejin/miniconda3/lib/python3.8/site-packages (from requests->torchtext) (2.0.4)\n",
      "Requirement already satisfied: idna<4,>=2.5 in /Users/yejin/miniconda3/lib/python3.8/site-packages (from requests->torchtext) (3.3)\n",
      "Requirement already satisfied: certifi>=2017.4.17 in /Users/yejin/miniconda3/lib/python3.8/site-packages (from requests->torchtext) (2023.5.7)\n",
      "Requirement already satisfied: MarkupSafe>=2.0 in /Users/yejin/miniconda3/lib/python3.8/site-packages (from jinja2->torch==2.0.1->torchtext) (2.1.1)\n",
      "Requirement already satisfied: mpmath>=0.19 in /Users/yejin/miniconda3/lib/python3.8/site-packages (from sympy->torch==2.0.1->torchtext) (1.2.1)\n",
      "Installing collected packages: torch, torchdata, torchtext\n",
      "  Attempting uninstall: torch\n",
      "    Found existing installation: torch 1.10.0\n",
      "    Uninstalling torch-1.10.0:\n",
      "      Successfully uninstalled torch-1.10.0\n",
      "\u001b[31mERROR: pip's dependency resolver does not currently take into account all the packages that are installed. This behaviour is the source of the following dependency conflicts.\n",
      "skku-skku-summarize-model 0.0.1 requires torch==1.10.0, but you have torch 2.0.1 which is incompatible.\u001b[0m\u001b[31m\n",
      "\u001b[0mSuccessfully installed torch-2.0.1 torchdata-0.6.1 torchtext-0.15.2\n"
     ]
    }
   ],
   "source": [
    "!pip install torchtext"
   ]
  },
  {
   "cell_type": "code",
   "execution_count": 3,
   "metadata": {},
   "outputs": [],
   "source": [
    "import torch\n",
    "import torch.nn as nn\n",
    "from torch import optim\n",
    "from torchtext import data, datasets\n",
    "\n",
    "\n",
    "device = torch.device('mps:0' if torch.backends.mps.is_available() else 'cpu')"
   ]
  },
  {
   "cell_type": "code",
   "execution_count": 4,
   "metadata": {},
   "outputs": [
    {
     "ename": "AttributeError",
     "evalue": "module 'torchtext.data' has no attribute 'Field'",
     "output_type": "error",
     "traceback": [
      "\u001b[0;31m---------------------------------------------------------------------------\u001b[0m",
      "\u001b[0;31mAttributeError\u001b[0m                            Traceback (most recent call last)",
      "\u001b[1;32m/Users/yejin/Yejin_drive/VSC_projects/start-pytorch/09. 단어의 표현 방법/09-08 사전 훈련된 워드 임베딩.ipynb Cell 3\u001b[0m in \u001b[0;36m<cell line: 1>\u001b[0;34m()\u001b[0m\n\u001b[0;32m----> <a href='vscode-notebook-cell:/Users/yejin/Yejin_drive/VSC_projects/start-pytorch/09.%20%EB%8B%A8%EC%96%B4%EC%9D%98%20%ED%91%9C%ED%98%84%20%EB%B0%A9%EB%B2%95/09-08%20%EC%82%AC%EC%A0%84%20%ED%9B%88%EB%A0%A8%EB%90%9C%20%EC%9B%8C%EB%93%9C%20%EC%9E%84%EB%B2%A0%EB%94%A9.ipynb#W1sZmlsZQ%3D%3D?line=0'>1</a>\u001b[0m TEXT \u001b[39m=\u001b[39m data\u001b[39m.\u001b[39;49mField(sequential\u001b[39m=\u001b[39m\u001b[39mTrue\u001b[39;00m, batch_first\u001b[39m=\u001b[39m\u001b[39mTrue\u001b[39;00m, lower\u001b[39m=\u001b[39m\u001b[39mTrue\u001b[39;00m)\n\u001b[1;32m      <a href='vscode-notebook-cell:/Users/yejin/Yejin_drive/VSC_projects/start-pytorch/09.%20%EB%8B%A8%EC%96%B4%EC%9D%98%20%ED%91%9C%ED%98%84%20%EB%B0%A9%EB%B2%95/09-08%20%EC%82%AC%EC%A0%84%20%ED%9B%88%EB%A0%A8%EB%90%9C%20%EC%9B%8C%EB%93%9C%20%EC%9E%84%EB%B2%A0%EB%94%A9.ipynb#W1sZmlsZQ%3D%3D?line=1'>2</a>\u001b[0m LABEL \u001b[39m=\u001b[39m data\u001b[39m.\u001b[39mField(sequential\u001b[39m=\u001b[39m\u001b[39mFalse\u001b[39;00m, batch_first\u001b[39m=\u001b[39m\u001b[39mTrue\u001b[39;00m)\n",
      "\u001b[0;31mAttributeError\u001b[0m: module 'torchtext.data' has no attribute 'Field'"
     ]
    }
   ],
   "source": [
    "TEXT = data.Field(sequential=True, batch_first=True, lower=True)\n",
    "LABEL = data.Field(sequential=False, batch_first=True)"
   ]
  },
  {
   "cell_type": "code",
   "execution_count": null,
   "metadata": {},
   "outputs": [],
   "source": []
  }
 ],
 "metadata": {
  "kernelspec": {
   "display_name": "base",
   "language": "python",
   "name": "python3"
  },
  "language_info": {
   "codemirror_mode": {
    "name": "ipython",
    "version": 3
   },
   "file_extension": ".py",
   "mimetype": "text/x-python",
   "name": "python",
   "nbconvert_exporter": "python",
   "pygments_lexer": "ipython3",
   "version": "3.8.13"
  },
  "orig_nbformat": 4
 },
 "nbformat": 4,
 "nbformat_minor": 2
}

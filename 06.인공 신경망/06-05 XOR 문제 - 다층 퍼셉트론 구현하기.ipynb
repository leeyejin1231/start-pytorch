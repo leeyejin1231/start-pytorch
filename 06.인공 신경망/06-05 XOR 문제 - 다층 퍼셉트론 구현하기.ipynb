{
 "cells": [
  {
   "cell_type": "code",
   "execution_count": 2,
   "metadata": {},
   "outputs": [
    {
     "data": {
      "text/plain": [
       "<torch._C.Generator at 0x1210382f0>"
      ]
     },
     "execution_count": 2,
     "metadata": {},
     "output_type": "execute_result"
    }
   ],
   "source": [
    "import torch\n",
    "import torch.nn as nn\n",
    "\n",
    "device = torch.device('mps:0' if torch.backends.mps.is_available() else 'cpu')\n",
    "torch.manual_seed(777)"
   ]
  },
  {
   "cell_type": "code",
   "execution_count": 3,
   "metadata": {},
   "outputs": [],
   "source": [
    "X = torch.FloatTensor([[0, 0], [0, 1], [1, 0], [1, 1]]).to(device)\n",
    "Y = torch.FloatTensor([[0], [1], [1], [0]]).to(device)"
   ]
  },
  {
   "cell_type": "code",
   "execution_count": 4,
   "metadata": {},
   "outputs": [],
   "source": [
    "class MultiPerceptronModel(nn.Module):\n",
    "    def __init__(self):\n",
    "        super().__init__()\n",
    "        self.sequence = nn.Sequential(\n",
    "          nn.Linear(2, 10, bias=True), # input_layer = 2, hidden_layer1 = 10\n",
    "          nn.Sigmoid(),\n",
    "          nn.Linear(10, 10, bias=True), # hidden_layer1 = 10, hidden_layer2 = 10\n",
    "          nn.Sigmoid(),\n",
    "          nn.Linear(10, 10, bias=True), # hidden_layer2 = 10, hidden_layer3 = 10\n",
    "          nn.Sigmoid(),\n",
    "          nn.Linear(10, 1, bias=True), # hidden_layer3 = 10, output_layer = 1\n",
    "          nn.Sigmoid()\n",
    "          )\n",
    "\n",
    "    def forward(self, x):\n",
    "        return self.sequence(x)"
   ]
  },
  {
   "cell_type": "code",
   "execution_count": 5,
   "metadata": {},
   "outputs": [
    {
     "data": {
      "text/plain": [
       "MultiPerceptronModel(\n",
       "  (sequence): Sequential(\n",
       "    (0): Linear(in_features=2, out_features=10, bias=True)\n",
       "    (1): Sigmoid()\n",
       "    (2): Linear(in_features=10, out_features=10, bias=True)\n",
       "    (3): Sigmoid()\n",
       "    (4): Linear(in_features=10, out_features=10, bias=True)\n",
       "    (5): Sigmoid()\n",
       "    (6): Linear(in_features=10, out_features=1, bias=True)\n",
       "    (7): Sigmoid()\n",
       "  )\n",
       ")"
      ]
     },
     "execution_count": 5,
     "metadata": {},
     "output_type": "execute_result"
    }
   ],
   "source": [
    "model = MultiPerceptronModel()\n",
    "model.to(device)"
   ]
  },
  {
   "cell_type": "code",
   "execution_count": 6,
   "metadata": {},
   "outputs": [],
   "source": [
    "criterion = torch.nn.BCELoss().to(device)\n",
    "optimizer = torch.optim.SGD(model.parameters(), lr=1)  # modified learning rate from 0.1 to 1"
   ]
  },
  {
   "cell_type": "code",
   "execution_count": 7,
   "metadata": {},
   "outputs": [
    {
     "name": "stdout",
     "output_type": "stream",
     "text": [
      "0 0.6948984265327454\n",
      "100 0.6931558847427368\n",
      "200 0.6931535005569458\n",
      "300 0.6931513547897339\n",
      "400 0.6931493282318115\n",
      "500 0.6931473612785339\n",
      "600 0.6931453943252563\n",
      "700 0.6931434869766235\n",
      "800 0.6931416988372803\n",
      "900 0.6931397914886475\n",
      "1000 0.6931380033493042\n",
      "1100 0.6931362152099609\n",
      "1200 0.6931343078613281\n",
      "1300 0.6931324005126953\n",
      "1400 0.6931304931640625\n",
      "1500 0.6931285262107849\n",
      "1600 0.693126380443573\n",
      "1700 0.6931242942810059\n",
      "1800 0.6931220293045044\n",
      "1900 0.6931196451187134\n",
      "2000 0.6931171417236328\n",
      "2100 0.6931145191192627\n",
      "2200 0.6931115984916687\n",
      "2300 0.6931084394454956\n",
      "2400 0.6931050419807434\n",
      "2500 0.6931014657020569\n",
      "2600 0.6930974721908569\n",
      "2700 0.693092942237854\n",
      "2800 0.6930880546569824\n",
      "2900 0.6930825114250183\n",
      "3000 0.6930763721466064\n",
      "3100 0.693069338798523\n",
      "3200 0.6930612325668335\n",
      "3300 0.6930519342422485\n",
      "3400 0.6930410861968994\n",
      "3500 0.6930283904075623\n",
      "3600 0.6930133104324341\n",
      "3700 0.6929951310157776\n",
      "3800 0.6929728984832764\n",
      "3900 0.6929453611373901\n",
      "4000 0.6929103136062622\n",
      "4100 0.6928649544715881\n",
      "4200 0.6928046941757202\n",
      "4300 0.692721962928772\n",
      "4400 0.692604124546051\n",
      "4500 0.6924278736114502\n",
      "4600 0.6921480894088745\n",
      "4700 0.6916664838790894\n",
      "4800 0.6907395720481873\n",
      "4900 0.6886204481124878\n",
      "5000 0.6820824146270752\n",
      "5100 0.6472572684288025\n",
      "5200 0.4497232735157013\n",
      "5300 0.041421107947826385\n",
      "5400 0.009739361703395844\n",
      "5500 0.005035773850977421\n",
      "5600 0.003296978771686554\n",
      "5700 0.002416562056168914\n",
      "5800 0.00189200381282717\n",
      "5900 0.0015465763863176107\n",
      "6000 0.0013031349517405033\n",
      "6100 0.0011229922529309988\n",
      "6200 0.0009846929460763931\n",
      "6300 0.000875377154443413\n",
      "6400 0.0007869372493587434\n",
      "6500 0.0007140140514820814\n",
      "6600 0.0006529208039864898\n",
      "6700 0.0006010609795339406\n",
      "6800 0.0005564798484556377\n",
      "6900 0.0005177749553695321\n",
      "7000 0.0004839019966311753\n",
      "7100 0.0004540255758911371\n",
      "7200 0.00042744469828903675\n",
      "7300 0.0004037118633277714\n",
      "7400 0.0003823349252343178\n",
      "7500 0.0003630305000115186\n",
      "7600 0.0003455450350884348\n",
      "7700 0.00032955053029581904\n",
      "7800 0.0003149127005599439\n",
      "7900 0.0003014825051650405\n",
      "8000 0.0002891256590373814\n",
      "8100 0.00027764838887378573\n",
      "8200 0.00026708049699664116\n",
      "8300 0.00025721327983774245\n",
      "8400 0.00024801684776321054\n",
      "8500 0.00023944652639329433\n",
      "8600 0.0002314277517143637\n",
      "8700 0.00022388600336853415\n",
      "8800 0.00021682123770006\n",
      "8900 0.00021014406229369342\n",
      "9000 0.0002038693055510521\n",
      "9100 0.00019798213907051831\n",
      "9200 0.0001923483650898561\n",
      "9300 0.00018705741968005896\n",
      "9400 0.00018199006444774568\n",
      "9500 0.00017723570636007935\n",
      "9600 0.00017267512157559395\n",
      "9700 0.0001683679292909801\n",
      "9800 0.00016426941147074103\n",
      "9900 0.00016030504775699228\n",
      "10000 0.0001565940328873694\n"
     ]
    }
   ],
   "source": [
    "for epoch in range(10001):\n",
    "    optimizer.zero_grad()\n",
    "    # forward 연산\n",
    "    hypothesis = model(X)\n",
    "\n",
    "    # 비용 함수\n",
    "    cost = criterion(hypothesis, Y)\n",
    "    cost.backward()\n",
    "    optimizer.step()\n",
    "\n",
    "    # 100의 배수에 해당되는 에포크마다 비용을 출력\n",
    "    if epoch % 100 == 0:\n",
    "        print(epoch, cost.item())"
   ]
  },
  {
   "cell_type": "code",
   "execution_count": 8,
   "metadata": {},
   "outputs": [
    {
     "name": "stdout",
     "output_type": "stream",
     "text": [
      "모델의 출력값(Hypothesis):  [[1.1172817e-04]\n",
      " [9.9982870e-01]\n",
      " [9.9984229e-01]\n",
      " [1.8536639e-04]]\n",
      "모델의 예측값(Predicted):  [[0.]\n",
      " [1.]\n",
      " [1.]\n",
      " [0.]]\n",
      "실제값(Y):  [[0.]\n",
      " [1.]\n",
      " [1.]\n",
      " [0.]]\n",
      "정확도(Accuracy):  1.0\n"
     ]
    }
   ],
   "source": [
    "with torch.no_grad():\n",
    "    hypothesis = model(X)\n",
    "    predicted = (hypothesis > 0.5).float()\n",
    "    accuracy = (predicted == Y).float().mean()\n",
    "    print('모델의 출력값(Hypothesis): ', hypothesis.detach().cpu().numpy())\n",
    "    print('모델의 예측값(Predicted): ', predicted.detach().cpu().numpy())\n",
    "    print('실제값(Y): ', Y.cpu().numpy())\n",
    "    print('정확도(Accuracy): ', accuracy.item())"
   ]
  },
  {
   "cell_type": "code",
   "execution_count": null,
   "metadata": {},
   "outputs": [],
   "source": []
  }
 ],
 "metadata": {
  "kernelspec": {
   "display_name": "base",
   "language": "python",
   "name": "python3"
  },
  "language_info": {
   "codemirror_mode": {
    "name": "ipython",
    "version": 3
   },
   "file_extension": ".py",
   "mimetype": "text/x-python",
   "name": "python",
   "nbconvert_exporter": "python",
   "pygments_lexer": "ipython3",
   "version": "3.8.13"
  },
  "orig_nbformat": 4
 },
 "nbformat": 4,
 "nbformat_minor": 2
}

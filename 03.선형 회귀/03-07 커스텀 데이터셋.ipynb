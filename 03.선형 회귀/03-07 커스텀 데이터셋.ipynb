{
 "cells": [
  {
   "cell_type": "code",
   "execution_count": 3,
   "metadata": {},
   "outputs": [],
   "source": [
    "import torch\n",
    "import torch.nn as nn\n",
    "import torch.nn.functional as F\n",
    "from torch.utils.data import Dataset\n",
    "from torch.utils.data import DataLoader"
   ]
  },
  {
   "cell_type": "code",
   "execution_count": 4,
   "metadata": {},
   "outputs": [],
   "source": [
    "class LinearRegressionModel(nn.Module):\n",
    "    def __init__(self):\n",
    "        super().__init__()\n",
    "        self.linear = nn.Linear(3, 1)\n",
    "    \n",
    "    def forward(self, x):\n",
    "        return self.linear(x)"
   ]
  },
  {
   "cell_type": "code",
   "execution_count": 5,
   "metadata": {},
   "outputs": [],
   "source": [
    "class CustomDataset(Dataset):\n",
    "    def __init__(self):\n",
    "        self.x_data = [[73, 80, 75],\n",
    "                   [93, 88, 93],\n",
    "                   [89, 91, 90],\n",
    "                   [96, 98, 100],\n",
    "                   [73, 66, 70]]\n",
    "        self.y_data = [[152], [185], [180], [196], [142]]\n",
    "    \n",
    "    def __len__(self):\n",
    "        return len(self.x_data)\n",
    "    \n",
    "    def __getitem__(self, idx):\n",
    "        x = torch.FloatTensor(self.x_data[idx])\n",
    "        y = torch.FloatTensor(self.y_data[idx])\n",
    "        return x, y"
   ]
  },
  {
   "cell_type": "code",
   "execution_count": 6,
   "metadata": {},
   "outputs": [],
   "source": [
    "dataset = CustomDataset()\n",
    "dataloader = DataLoader(dataset, batch_size=2, shuffle=True)\n",
    "model = LinearRegressionModel()\n",
    "optimizer = torch.optim.SGD(model.parameters(), lr=1e-5)"
   ]
  },
  {
   "cell_type": "code",
   "execution_count": 7,
   "metadata": {},
   "outputs": [
    {
     "name": "stdout",
     "output_type": "stream",
     "text": [
      "Epoch    0/20 Batch 1/3 Cost: 8130.433105\n",
      "Epoch    0/20 Batch 2/3 Cost: 1891.510742\n",
      "Epoch    0/20 Batch 3/3 Cost: 418.557251\n",
      "Epoch    1/20 Batch 1/3 Cost: 198.508179\n",
      "Epoch    1/20 Batch 2/3 Cost: 152.182831\n",
      "Epoch    1/20 Batch 3/3 Cost: 16.909544\n",
      "Epoch    2/20 Batch 1/3 Cost: 11.188799\n",
      "Epoch    2/20 Batch 2/3 Cost: 0.508223\n",
      "Epoch    2/20 Batch 3/3 Cost: 6.597489\n",
      "Epoch    3/20 Batch 1/3 Cost: 1.137307\n",
      "Epoch    3/20 Batch 2/3 Cost: 0.882895\n",
      "Epoch    3/20 Batch 3/3 Cost: 1.470734\n",
      "Epoch    4/20 Batch 1/3 Cost: 1.435212\n",
      "Epoch    4/20 Batch 2/3 Cost: 1.278487\n",
      "Epoch    4/20 Batch 3/3 Cost: 0.300375\n",
      "Epoch    5/20 Batch 1/3 Cost: 0.314933\n",
      "Epoch    5/20 Batch 2/3 Cost: 1.612631\n",
      "Epoch    5/20 Batch 3/3 Cost: 1.990478\n",
      "Epoch    6/20 Batch 1/3 Cost: 0.852351\n",
      "Epoch    6/20 Batch 2/3 Cost: 1.533739\n",
      "Epoch    6/20 Batch 3/3 Cost: 0.689967\n",
      "Epoch    7/20 Batch 1/3 Cost: 0.514927\n",
      "Epoch    7/20 Batch 2/3 Cost: 2.817353\n",
      "Epoch    7/20 Batch 3/3 Cost: 0.753815\n",
      "Epoch    8/20 Batch 1/3 Cost: 1.166838\n",
      "Epoch    8/20 Batch 2/3 Cost: 0.804124\n",
      "Epoch    8/20 Batch 3/3 Cost: 2.438117\n",
      "Epoch    9/20 Batch 1/3 Cost: 0.989893\n",
      "Epoch    9/20 Batch 2/3 Cost: 1.240032\n",
      "Epoch    9/20 Batch 3/3 Cost: 1.807879\n",
      "Epoch   10/20 Batch 1/3 Cost: 0.869249\n",
      "Epoch   10/20 Batch 2/3 Cost: 1.429376\n",
      "Epoch   10/20 Batch 3/3 Cost: 2.170649\n",
      "Epoch   11/20 Batch 1/3 Cost: 0.815822\n",
      "Epoch   11/20 Batch 2/3 Cost: 1.308691\n",
      "Epoch   11/20 Batch 3/3 Cost: 2.240260\n",
      "Epoch   12/20 Batch 1/3 Cost: 0.772100\n",
      "Epoch   12/20 Batch 2/3 Cost: 1.532734\n",
      "Epoch   12/20 Batch 3/3 Cost: 0.698894\n",
      "Epoch   13/20 Batch 1/3 Cost: 0.167428\n",
      "Epoch   13/20 Batch 2/3 Cost: 1.445920\n",
      "Epoch   13/20 Batch 3/3 Cost: 2.155031\n",
      "Epoch   14/20 Batch 1/3 Cost: 1.304636\n",
      "Epoch   14/20 Batch 2/3 Cost: 0.706866\n",
      "Epoch   14/20 Batch 3/3 Cost: 2.139826\n",
      "Epoch   15/20 Batch 1/3 Cost: 1.305426\n",
      "Epoch   15/20 Batch 2/3 Cost: 0.707950\n",
      "Epoch   15/20 Batch 3/3 Cost: 2.133714\n",
      "Epoch   16/20 Batch 1/3 Cost: 1.304458\n",
      "Epoch   16/20 Batch 2/3 Cost: 0.706709\n",
      "Epoch   16/20 Batch 3/3 Cost: 2.129348\n",
      "Epoch   17/20 Batch 1/3 Cost: 0.977979\n",
      "Epoch   17/20 Batch 2/3 Cost: 1.746645\n",
      "Epoch   17/20 Batch 3/3 Cost: 2.312501\n",
      "Epoch   18/20 Batch 1/3 Cost: 0.356702\n",
      "Epoch   18/20 Batch 2/3 Cost: 1.527706\n",
      "Epoch   18/20 Batch 3/3 Cost: 1.971450\n",
      "Epoch   19/20 Batch 1/3 Cost: 0.836913\n",
      "Epoch   19/20 Batch 2/3 Cost: 1.508742\n",
      "Epoch   19/20 Batch 3/3 Cost: 0.657704\n",
      "Epoch   20/20 Batch 1/3 Cost: 1.240613\n",
      "Epoch   20/20 Batch 2/3 Cost: 1.069367\n",
      "Epoch   20/20 Batch 3/3 Cost: 0.490509\n"
     ]
    }
   ],
   "source": [
    "nb_epochs = 20\n",
    "for epoch in range(nb_epochs + 1):\n",
    "  for batch_idx, samples in enumerate(dataloader):\n",
    "    # print(batch_idx)\n",
    "    # print(samples)\n",
    "    x_train, y_train = samples\n",
    "    # H(x) 계산\n",
    "    prediction = model(x_train)\n",
    "\n",
    "    # cost 계산\n",
    "    cost = F.mse_loss(prediction, y_train)\n",
    "\n",
    "    # cost로 H(x) 계산\n",
    "    optimizer.zero_grad()\n",
    "    cost.backward()\n",
    "    optimizer.step()\n",
    "\n",
    "    print('Epoch {:4d}/{} Batch {}/{} Cost: {:.6f}'.format(\n",
    "        epoch, nb_epochs, batch_idx+1, len(dataloader),\n",
    "        cost.item()\n",
    "        ))"
   ]
  },
  {
   "cell_type": "code",
   "execution_count": 8,
   "metadata": {},
   "outputs": [
    {
     "name": "stdout",
     "output_type": "stream",
     "text": [
      "훈련 후 입력이 73, 80, 75일 때의 예측값 : tensor([[152.4573]], grad_fn=<AddmmBackward0>)\n"
     ]
    }
   ],
   "source": [
    "# 임의의 입력 [73, 80, 75]를 선언\n",
    "new_var =  torch.FloatTensor([[73, 80, 75]]) \n",
    "# 입력한 값 [73, 80, 75]에 대해서 예측값 y를 리턴받아서 pred_y에 저장\n",
    "pred_y = model(new_var) \n",
    "print(\"훈련 후 입력이 73, 80, 75일 때의 예측값 :\", pred_y) "
   ]
  }
 ],
 "metadata": {
  "kernelspec": {
   "display_name": "base",
   "language": "python",
   "name": "python3"
  },
  "language_info": {
   "codemirror_mode": {
    "name": "ipython",
    "version": 3
   },
   "file_extension": ".py",
   "mimetype": "text/x-python",
   "name": "python",
   "nbconvert_exporter": "python",
   "pygments_lexer": "ipython3",
   "version": "3.8.13"
  },
  "orig_nbformat": 4
 },
 "nbformat": 4,
 "nbformat_minor": 2
}

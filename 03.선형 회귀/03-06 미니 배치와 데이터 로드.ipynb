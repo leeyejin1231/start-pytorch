{
 "cells": [
  {
   "cell_type": "code",
   "execution_count": 2,
   "metadata": {},
   "outputs": [],
   "source": [
    "import torch\n",
    "import torch.nn as nn\n",
    "import torch.nn.functional as F\n",
    "from torch.utils.data import TensorDataset # 텐서데이터셋\n",
    "from torch.utils.data import DataLoader # 데이터로더"
   ]
  },
  {
   "cell_type": "code",
   "execution_count": 3,
   "metadata": {},
   "outputs": [],
   "source": [
    "x_train  =  torch.FloatTensor([[73,  80,  75], \n",
    "                               [93,  88,  93], \n",
    "                               [89,  91,  90], \n",
    "                               [96,  98,  100],   \n",
    "                               [73,  66,  70]])  \n",
    "y_train  =  torch.FloatTensor([[152],  [185],  [180],  [196],  [142]])"
   ]
  },
  {
   "cell_type": "code",
   "execution_count": 4,
   "metadata": {},
   "outputs": [],
   "source": [
    "dataset = TensorDataset(x_train, y_train)"
   ]
  },
  {
   "cell_type": "code",
   "execution_count": 6,
   "metadata": {},
   "outputs": [],
   "source": [
    "class LinearRegressionModel(nn.Module):\n",
    "    def __init__(self):\n",
    "        super().__init__()\n",
    "        self.linear = nn.Linear(3, 1)\n",
    "    \n",
    "    def forward(self, x):\n",
    "        return self.linear(x)"
   ]
  },
  {
   "cell_type": "code",
   "execution_count": 7,
   "metadata": {},
   "outputs": [],
   "source": [
    "dataloader = DataLoader(dataset, batch_size=2, shuffle=True)\n",
    "model = LinearRegressionModel()\n",
    "optimizer = torch.optim.SGD(model.parameters(), lr=1e-5) "
   ]
  },
  {
   "cell_type": "code",
   "execution_count": 8,
   "metadata": {},
   "outputs": [
    {
     "name": "stdout",
     "output_type": "stream",
     "text": [
      "Epoch    0/20 Batch 1/3 Cost: 34851.539062\n",
      "Epoch    0/20 Batch 2/3 Cost: 13686.105469\n",
      "Epoch    0/20 Batch 3/3 Cost: 6337.804199\n",
      "Epoch    1/20 Batch 1/3 Cost: 1037.720703\n",
      "Epoch    1/20 Batch 2/3 Cost: 155.450851\n",
      "Epoch    1/20 Batch 3/3 Cost: 88.995567\n",
      "Epoch    2/20 Batch 1/3 Cost: 28.528481\n",
      "Epoch    2/20 Batch 2/3 Cost: 2.625098\n",
      "Epoch    2/20 Batch 3/3 Cost: 10.764899\n",
      "Epoch    3/20 Batch 1/3 Cost: 0.014370\n",
      "Epoch    3/20 Batch 2/3 Cost: 2.412955\n",
      "Epoch    3/20 Batch 3/3 Cost: 0.025802\n",
      "Epoch    4/20 Batch 1/3 Cost: 0.464485\n",
      "Epoch    4/20 Batch 2/3 Cost: 1.997263\n",
      "Epoch    4/20 Batch 3/3 Cost: 0.505779\n",
      "Epoch    5/20 Batch 1/3 Cost: 2.072574\n",
      "Epoch    5/20 Batch 2/3 Cost: 0.079764\n",
      "Epoch    5/20 Batch 3/3 Cost: 0.215159\n",
      "Epoch    6/20 Batch 1/3 Cost: 0.284420\n",
      "Epoch    6/20 Batch 2/3 Cost: 0.115830\n",
      "Epoch    6/20 Batch 3/3 Cost: 3.968993\n",
      "Epoch    7/20 Batch 1/3 Cost: 0.480685\n",
      "Epoch    7/20 Batch 2/3 Cost: 1.849461\n",
      "Epoch    7/20 Batch 3/3 Cost: 0.624427\n",
      "Epoch    8/20 Batch 1/3 Cost: 0.031707\n",
      "Epoch    8/20 Batch 2/3 Cost: 1.742921\n",
      "Epoch    8/20 Batch 3/3 Cost: 1.166800\n",
      "Epoch    9/20 Batch 1/3 Cost: 0.295426\n",
      "Epoch    9/20 Batch 2/3 Cost: 2.143615\n",
      "Epoch    9/20 Batch 3/3 Cost: 0.000462\n",
      "Epoch   10/20 Batch 1/3 Cost: 1.475676\n",
      "Epoch   10/20 Batch 2/3 Cost: 0.607464\n",
      "Epoch   10/20 Batch 3/3 Cost: 0.885126\n",
      "Epoch   11/20 Batch 1/3 Cost: 0.089855\n",
      "Epoch   11/20 Batch 2/3 Cost: 1.896404\n",
      "Epoch   11/20 Batch 3/3 Cost: 1.043150\n",
      "Epoch   12/20 Batch 1/3 Cost: 0.261933\n",
      "Epoch   12/20 Batch 2/3 Cost: 2.188763\n",
      "Epoch   12/20 Batch 3/3 Cost: 0.001608\n",
      "Epoch   13/20 Batch 1/3 Cost: 0.503857\n",
      "Epoch   13/20 Batch 2/3 Cost: 1.922277\n",
      "Epoch   13/20 Batch 3/3 Cost: 0.515659\n",
      "Epoch   14/20 Batch 1/3 Cost: 0.081475\n",
      "Epoch   14/20 Batch 2/3 Cost: 2.171305\n",
      "Epoch   14/20 Batch 3/3 Cost: 0.000670\n",
      "Epoch   15/20 Batch 1/3 Cost: 1.596211\n",
      "Epoch   15/20 Batch 2/3 Cost: 0.182241\n",
      "Epoch   15/20 Batch 3/3 Cost: 0.955046\n",
      "Epoch   16/20 Batch 1/3 Cost: 0.071316\n",
      "Epoch   16/20 Batch 2/3 Cost: 0.331763\n",
      "Epoch   16/20 Batch 3/3 Cost: 4.363685\n",
      "Epoch   17/20 Batch 1/3 Cost: 0.694919\n",
      "Epoch   17/20 Batch 2/3 Cost: 1.456434\n",
      "Epoch   17/20 Batch 3/3 Cost: 1.508763\n",
      "Epoch   18/20 Batch 1/3 Cost: 1.695969\n",
      "Epoch   18/20 Batch 2/3 Cost: 0.598810\n",
      "Epoch   18/20 Batch 3/3 Cost: 0.060848\n",
      "Epoch   19/20 Batch 1/3 Cost: 0.341791\n",
      "Epoch   19/20 Batch 2/3 Cost: 1.912088\n",
      "Epoch   19/20 Batch 3/3 Cost: 0.360410\n",
      "Epoch   20/20 Batch 1/3 Cost: 0.343585\n",
      "Epoch   20/20 Batch 2/3 Cost: 0.022155\n",
      "Epoch   20/20 Batch 3/3 Cost: 4.009527\n"
     ]
    }
   ],
   "source": [
    "nb_epochs = 20\n",
    "for epoch in range(nb_epochs + 1):\n",
    "  for batch_idx, samples in enumerate(dataloader):\n",
    "    # print(batch_idx)\n",
    "    # print(samples)\n",
    "    x_train, y_train = samples\n",
    "    # H(x) 계산\n",
    "    prediction = model(x_train)\n",
    "\n",
    "    # cost 계산\n",
    "    cost = F.mse_loss(prediction, y_train)\n",
    "\n",
    "    # cost로 H(x) 계산\n",
    "    optimizer.zero_grad()\n",
    "    cost.backward()\n",
    "    optimizer.step()\n",
    "\n",
    "    print('Epoch {:4d}/{} Batch {}/{} Cost: {:.6f}'.format(\n",
    "        epoch, nb_epochs, batch_idx+1, len(dataloader),\n",
    "        cost.item()\n",
    "        ))\n"
   ]
  },
  {
   "cell_type": "code",
   "execution_count": 9,
   "metadata": {},
   "outputs": [
    {
     "name": "stdout",
     "output_type": "stream",
     "text": [
      "훈련 후 입력이 73, 80, 75일 때의 예측값 : tensor([[150.6927]], grad_fn=<AddmmBackward0>)\n"
     ]
    }
   ],
   "source": [
    "# 임의의 입력 [73, 80, 75]를 선언\n",
    "new_var =  torch.FloatTensor([[73, 80, 75]]) \n",
    "# 입력한 값 [73, 80, 75]에 대해서 예측값 y를 리턴받아서 pred_y에 저장\n",
    "pred_y = model(new_var) \n",
    "print(\"훈련 후 입력이 73, 80, 75일 때의 예측값 :\", pred_y) "
   ]
  }
 ],
 "metadata": {
  "kernelspec": {
   "display_name": "base",
   "language": "python",
   "name": "python3"
  },
  "language_info": {
   "codemirror_mode": {
    "name": "ipython",
    "version": 3
   },
   "file_extension": ".py",
   "mimetype": "text/x-python",
   "name": "python",
   "nbconvert_exporter": "python",
   "pygments_lexer": "ipython3",
   "version": "3.8.13"
  },
  "orig_nbformat": 4
 },
 "nbformat": 4,
 "nbformat_minor": 2
}
